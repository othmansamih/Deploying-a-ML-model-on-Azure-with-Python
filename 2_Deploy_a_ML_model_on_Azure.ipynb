{
  "nbformat": 4,
  "nbformat_minor": 0,
  "metadata": {
    "colab": {
      "provenance": []
    },
    "kernelspec": {
      "name": "python3",
      "display_name": "Python 3"
    },
    "language_info": {
      "name": "python"
    }
  },
  "cells": [
    {
      "cell_type": "code",
      "execution_count": 1,
      "metadata": {
        "colab": {
          "base_uri": "https://localhost:8080/"
        },
        "id": "teKdUUXBi9_d",
        "outputId": "f60179eb-acbb-493c-830a-501fb9521b4a"
      },
      "outputs": [
        {
          "output_type": "stream",
          "name": "stdout",
          "text": [
            "Requirement already satisfied: azureml-sdk in /usr/local/lib/python3.10/dist-packages (1.55.0)\n",
            "Requirement already satisfied: azureml-core~=1.55.0 in /usr/local/lib/python3.10/dist-packages (from azureml-sdk) (1.55.0)\n",
            "Requirement already satisfied: azureml-dataset-runtime[fuse]~=1.55.0 in /usr/local/lib/python3.10/dist-packages (from azureml-sdk) (1.55.0)\n",
            "Requirement already satisfied: azureml-train-core~=1.55.0 in /usr/local/lib/python3.10/dist-packages (from azureml-sdk) (1.55.0)\n",
            "Requirement already satisfied: azureml-train-automl-client~=1.55.0 in /usr/local/lib/python3.10/dist-packages (from azureml-sdk) (1.55.0)\n",
            "Requirement already satisfied: azureml-pipeline~=1.55.0 in /usr/local/lib/python3.10/dist-packages (from azureml-sdk) (1.55.0)\n",
            "Requirement already satisfied: pytz in /usr/local/lib/python3.10/dist-packages (from azureml-core~=1.55.0->azureml-sdk) (2023.4)\n",
            "Requirement already satisfied: backports.tempfile in /usr/local/lib/python3.10/dist-packages (from azureml-core~=1.55.0->azureml-sdk) (1.0)\n",
            "Requirement already satisfied: pathspec<1.0.0 in /usr/local/lib/python3.10/dist-packages (from azureml-core~=1.55.0->azureml-sdk) (0.12.1)\n",
            "Requirement already satisfied: requests[socks]<3.0.0,>=2.19.1 in /usr/local/lib/python3.10/dist-packages (from azureml-core~=1.55.0->azureml-sdk) (2.31.0)\n",
            "Requirement already satisfied: msal<2.0.0,>=1.15.0 in /usr/local/lib/python3.10/dist-packages (from azureml-core~=1.55.0->azureml-sdk) (1.26.0)\n",
            "Requirement already satisfied: msal-extensions<=2.0.0,>=0.3.0 in /usr/local/lib/python3.10/dist-packages (from azureml-core~=1.55.0->azureml-sdk) (1.1.0)\n",
            "Requirement already satisfied: knack<0.12.0 in /usr/local/lib/python3.10/dist-packages (from azureml-core~=1.55.0->azureml-sdk) (0.11.0)\n",
            "Requirement already satisfied: azure-core<2.0.0 in /usr/local/lib/python3.10/dist-packages (from azureml-core~=1.55.0->azureml-sdk) (1.30.0)\n",
            "Requirement already satisfied: pkginfo in /usr/local/lib/python3.10/dist-packages (from azureml-core~=1.55.0->azureml-sdk) (1.9.6)\n",
            "Requirement already satisfied: argcomplete<4 in /usr/local/lib/python3.10/dist-packages (from azureml-core~=1.55.0->azureml-sdk) (3.2.2)\n",
            "Requirement already satisfied: humanfriendly<11.0,>=4.7 in /usr/local/lib/python3.10/dist-packages (from azureml-core~=1.55.0->azureml-sdk) (10.0)\n",
            "Requirement already satisfied: paramiko<4.0.0,>=2.0.8 in /usr/local/lib/python3.10/dist-packages (from azureml-core~=1.55.0->azureml-sdk) (3.4.0)\n",
            "Requirement already satisfied: azure-mgmt-resource<=24.0.0,>=15.0.0 in /usr/local/lib/python3.10/dist-packages (from azureml-core~=1.55.0->azureml-sdk) (23.0.1)\n",
            "Requirement already satisfied: azure-mgmt-containerregistry<11,>=8.2.0 in /usr/local/lib/python3.10/dist-packages (from azureml-core~=1.55.0->azureml-sdk) (10.3.0)\n",
            "Requirement already satisfied: azure-mgmt-storage<=22.0.0,>=16.0.0 in /usr/local/lib/python3.10/dist-packages (from azureml-core~=1.55.0->azureml-sdk) (21.1.0)\n",
            "Requirement already satisfied: azure-mgmt-keyvault<11.0.0,>=0.40.0 in /usr/local/lib/python3.10/dist-packages (from azureml-core~=1.55.0->azureml-sdk) (10.3.0)\n",
            "Requirement already satisfied: azure-mgmt-authorization<5,>=0.40.0 in /usr/local/lib/python3.10/dist-packages (from azureml-core~=1.55.0->azureml-sdk) (4.0.0)\n",
            "Requirement already satisfied: azure-mgmt-network<=25.2.0 in /usr/local/lib/python3.10/dist-packages (from azureml-core~=1.55.0->azureml-sdk) (25.2.0)\n",
            "Requirement already satisfied: azure-graphrbac<1.0.0,>=0.40.0 in /usr/local/lib/python3.10/dist-packages (from azureml-core~=1.55.0->azureml-sdk) (0.61.1)\n",
            "Requirement already satisfied: azure-common<2.0.0,>=1.1.12 in /usr/local/lib/python3.10/dist-packages (from azureml-core~=1.55.0->azureml-sdk) (1.1.28)\n",
            "Requirement already satisfied: msrest<=0.7.1,>=0.5.1 in /usr/local/lib/python3.10/dist-packages (from azureml-core~=1.55.0->azureml-sdk) (0.7.1)\n",
            "Requirement already satisfied: msrestazure<=0.6.4,>=0.4.33 in /usr/local/lib/python3.10/dist-packages (from azureml-core~=1.55.0->azureml-sdk) (0.6.4)\n",
            "Requirement already satisfied: urllib3<3.0.0,>1.26.17 in /usr/local/lib/python3.10/dist-packages (from azureml-core~=1.55.0->azureml-sdk) (2.0.7)\n",
            "Requirement already satisfied: packaging<=24.0,>=20.0 in /usr/local/lib/python3.10/dist-packages (from azureml-core~=1.55.0->azureml-sdk) (23.2)\n",
            "Requirement already satisfied: python-dateutil<3.0.0,>=2.7.3 in /usr/local/lib/python3.10/dist-packages (from azureml-core~=1.55.0->azureml-sdk) (2.8.2)\n",
            "Requirement already satisfied: ndg-httpsclient<=0.5.1 in /usr/local/lib/python3.10/dist-packages (from azureml-core~=1.55.0->azureml-sdk) (0.5.1)\n",
            "Requirement already satisfied: SecretStorage<4.0.0 in /usr/lib/python3/dist-packages (from azureml-core~=1.55.0->azureml-sdk) (3.3.1)\n",
            "Requirement already satisfied: jsonpickle<4.0.0 in /usr/local/lib/python3.10/dist-packages (from azureml-core~=1.55.0->azureml-sdk) (3.0.2)\n",
            "Requirement already satisfied: contextlib2<22.0.0 in /usr/local/lib/python3.10/dist-packages (from azureml-core~=1.55.0->azureml-sdk) (21.6.0)\n",
            "Requirement already satisfied: docker<8.0.0 in /usr/local/lib/python3.10/dist-packages (from azureml-core~=1.55.0->azureml-sdk) (7.0.0)\n",
            "Requirement already satisfied: PyJWT<3.0.0 in /usr/lib/python3/dist-packages (from azureml-core~=1.55.0->azureml-sdk) (2.3.0)\n",
            "Requirement already satisfied: adal<=1.2.7,>=1.2.0 in /usr/local/lib/python3.10/dist-packages (from azureml-core~=1.55.0->azureml-sdk) (1.2.7)\n",
            "Requirement already satisfied: pyopenssl<24.0.0 in /usr/local/lib/python3.10/dist-packages (from azureml-core~=1.55.0->azureml-sdk) (23.3.0)\n",
            "Requirement already satisfied: jmespath<2.0.0 in /usr/local/lib/python3.10/dist-packages (from azureml-core~=1.55.0->azureml-sdk) (1.0.1)\n",
            "Requirement already satisfied: azureml-dataprep<5.2.0a,>=5.1.0a in /usr/local/lib/python3.10/dist-packages (from azureml-dataset-runtime[fuse]~=1.55.0->azureml-sdk) (5.1.4)\n",
            "Requirement already satisfied: pyarrow>=0.17.0 in /usr/local/lib/python3.10/dist-packages (from azureml-dataset-runtime[fuse]~=1.55.0->azureml-sdk) (10.0.1)\n",
            "Requirement already satisfied: numpy!=1.19.3,<1.24 in /usr/local/lib/python3.10/dist-packages (from azureml-dataset-runtime[fuse]~=1.55.0->azureml-sdk) (1.23.5)\n",
            "Requirement already satisfied: fusepy<4.0.0,>=3.0.1 in /usr/local/lib/python3.10/dist-packages (from azureml-dataset-runtime[fuse]~=1.55.0->azureml-sdk) (3.0.1)\n",
            "Requirement already satisfied: azureml-pipeline-core~=1.55.0 in /usr/local/lib/python3.10/dist-packages (from azureml-pipeline~=1.55.0->azureml-sdk) (1.55.0)\n",
            "Requirement already satisfied: azureml-pipeline-steps~=1.55.0 in /usr/local/lib/python3.10/dist-packages (from azureml-pipeline~=1.55.0->azureml-sdk) (1.55.0)\n",
            "Requirement already satisfied: azureml-automl-core~=1.55.0 in /usr/local/lib/python3.10/dist-packages (from azureml-train-automl-client~=1.55.0->azureml-sdk) (1.55.0)\n",
            "Requirement already satisfied: azureml-telemetry~=1.55.0 in /usr/local/lib/python3.10/dist-packages (from azureml-train-automl-client~=1.55.0->azureml-sdk) (1.55.0)\n",
            "Requirement already satisfied: azureml-train-restclients-hyperdrive~=1.55.0 in /usr/local/lib/python3.10/dist-packages (from azureml-train-core~=1.55.0->azureml-sdk) (1.55.0)\n",
            "Requirement already satisfied: cryptography>=1.1.0 in /usr/local/lib/python3.10/dist-packages (from adal<=1.2.7,>=1.2.0->azureml-core~=1.55.0->azureml-sdk) (41.0.7)\n",
            "Requirement already satisfied: six>=1.11.0 in /usr/local/lib/python3.10/dist-packages (from azure-core<2.0.0->azureml-core~=1.55.0->azureml-sdk) (1.16.0)\n",
            "Requirement already satisfied: typing-extensions>=4.6.0 in /usr/local/lib/python3.10/dist-packages (from azure-core<2.0.0->azureml-core~=1.55.0->azureml-sdk) (4.9.0)\n",
            "Requirement already satisfied: isodate<1.0.0,>=0.6.1 in /usr/local/lib/python3.10/dist-packages (from azure-mgmt-authorization<5,>=0.40.0->azureml-core~=1.55.0->azureml-sdk) (0.6.1)\n",
            "Requirement already satisfied: azure-mgmt-core<2.0.0,>=1.3.2 in /usr/local/lib/python3.10/dist-packages (from azure-mgmt-authorization<5,>=0.40.0->azureml-core~=1.55.0->azureml-sdk) (1.4.0)\n",
            "Requirement already satisfied: azureml-dataprep-native<42.0.0,>=41.0.0 in /usr/local/lib/python3.10/dist-packages (from azureml-dataprep<5.2.0a,>=5.1.0a->azureml-dataset-runtime[fuse]~=1.55.0->azureml-sdk) (41.0.0)\n",
            "Requirement already satisfied: azureml-dataprep-rslex~=2.22.2dev0 in /usr/local/lib/python3.10/dist-packages (from azureml-dataprep<5.2.0a,>=5.1.0a->azureml-dataset-runtime[fuse]~=1.55.0->azureml-sdk) (2.22.2)\n",
            "Requirement already satisfied: cloudpickle<3.0.0,>=1.1.0 in /usr/local/lib/python3.10/dist-packages (from azureml-dataprep<5.2.0a,>=5.1.0a->azureml-dataset-runtime[fuse]~=1.55.0->azureml-sdk) (2.2.1)\n",
            "Requirement already satisfied: azure-identity>=1.7.0 in /usr/local/lib/python3.10/dist-packages (from azureml-dataprep<5.2.0a,>=5.1.0a->azureml-dataset-runtime[fuse]~=1.55.0->azureml-sdk) (1.15.0)\n",
            "Requirement already satisfied: jsonschema in /usr/local/lib/python3.10/dist-packages (from azureml-dataprep<5.2.0a,>=5.1.0a->azureml-dataset-runtime[fuse]~=1.55.0->azureml-sdk) (4.19.2)\n",
            "Requirement already satisfied: pyyaml<7.0.0,>=5.1.0 in /usr/local/lib/python3.10/dist-packages (from azureml-dataprep<5.2.0a,>=5.1.0a->azureml-dataset-runtime[fuse]~=1.55.0->azureml-sdk) (6.0.1)\n",
            "Requirement already satisfied: applicationinsights in /usr/local/lib/python3.10/dist-packages (from azureml-telemetry~=1.55.0->azureml-train-automl-client~=1.55.0->azureml-sdk) (0.11.10)\n",
            "Requirement already satisfied: pygments in /usr/local/lib/python3.10/dist-packages (from knack<0.12.0->azureml-core~=1.55.0->azureml-sdk) (2.16.1)\n",
            "Requirement already satisfied: tabulate in /usr/local/lib/python3.10/dist-packages (from knack<0.12.0->azureml-core~=1.55.0->azureml-sdk) (0.9.0)\n",
            "Requirement already satisfied: portalocker<3,>=1.0 in /usr/local/lib/python3.10/dist-packages (from msal-extensions<=2.0.0,>=0.3.0->azureml-core~=1.55.0->azureml-sdk) (2.8.2)\n",
            "Requirement already satisfied: certifi>=2017.4.17 in /usr/local/lib/python3.10/dist-packages (from msrest<=0.7.1,>=0.5.1->azureml-core~=1.55.0->azureml-sdk) (2024.2.2)\n",
            "Requirement already satisfied: requests-oauthlib>=0.5.0 in /usr/local/lib/python3.10/dist-packages (from msrest<=0.7.1,>=0.5.1->azureml-core~=1.55.0->azureml-sdk) (1.3.1)\n",
            "Requirement already satisfied: pyasn1>=0.1.1 in /usr/local/lib/python3.10/dist-packages (from ndg-httpsclient<=0.5.1->azureml-core~=1.55.0->azureml-sdk) (0.5.1)\n",
            "Requirement already satisfied: bcrypt>=3.2 in /usr/local/lib/python3.10/dist-packages (from paramiko<4.0.0,>=2.0.8->azureml-core~=1.55.0->azureml-sdk) (4.1.2)\n",
            "Requirement already satisfied: pynacl>=1.5 in /usr/local/lib/python3.10/dist-packages (from paramiko<4.0.0,>=2.0.8->azureml-core~=1.55.0->azureml-sdk) (1.5.0)\n",
            "Requirement already satisfied: charset-normalizer<4,>=2 in /usr/local/lib/python3.10/dist-packages (from requests[socks]<3.0.0,>=2.19.1->azureml-core~=1.55.0->azureml-sdk) (3.3.2)\n",
            "Requirement already satisfied: idna<4,>=2.5 in /usr/local/lib/python3.10/dist-packages (from requests[socks]<3.0.0,>=2.19.1->azureml-core~=1.55.0->azureml-sdk) (3.6)\n",
            "Requirement already satisfied: PySocks!=1.5.7,>=1.5.6 in /usr/local/lib/python3.10/dist-packages (from requests[socks]<3.0.0,>=2.19.1->azureml-core~=1.55.0->azureml-sdk) (1.7.1)\n",
            "Requirement already satisfied: backports.weakref in /usr/local/lib/python3.10/dist-packages (from backports.tempfile->azureml-core~=1.55.0->azureml-sdk) (1.0.post1)\n",
            "Requirement already satisfied: cffi>=1.12 in /usr/local/lib/python3.10/dist-packages (from cryptography>=1.1.0->adal<=1.2.7,>=1.2.0->azureml-core~=1.55.0->azureml-sdk) (1.16.0)\n",
            "Requirement already satisfied: oauthlib>=3.0.0 in /usr/local/lib/python3.10/dist-packages (from requests-oauthlib>=0.5.0->msrest<=0.7.1,>=0.5.1->azureml-core~=1.55.0->azureml-sdk) (3.2.2)\n",
            "Requirement already satisfied: attrs>=22.2.0 in /usr/local/lib/python3.10/dist-packages (from jsonschema->azureml-dataprep<5.2.0a,>=5.1.0a->azureml-dataset-runtime[fuse]~=1.55.0->azureml-sdk) (23.2.0)\n",
            "Requirement already satisfied: jsonschema-specifications>=2023.03.6 in /usr/local/lib/python3.10/dist-packages (from jsonschema->azureml-dataprep<5.2.0a,>=5.1.0a->azureml-dataset-runtime[fuse]~=1.55.0->azureml-sdk) (2023.12.1)\n",
            "Requirement already satisfied: referencing>=0.28.4 in /usr/local/lib/python3.10/dist-packages (from jsonschema->azureml-dataprep<5.2.0a,>=5.1.0a->azureml-dataset-runtime[fuse]~=1.55.0->azureml-sdk) (0.33.0)\n",
            "Requirement already satisfied: rpds-py>=0.7.1 in /usr/local/lib/python3.10/dist-packages (from jsonschema->azureml-dataprep<5.2.0a,>=5.1.0a->azureml-dataset-runtime[fuse]~=1.55.0->azureml-sdk) (0.17.1)\n",
            "Requirement already satisfied: pycparser in /usr/local/lib/python3.10/dist-packages (from cffi>=1.12->cryptography>=1.1.0->adal<=1.2.7,>=1.2.0->azureml-core~=1.55.0->azureml-sdk) (2.21)\n"
          ]
        }
      ],
      "source": [
        "!pip install azureml-sdk"
      ]
    },
    {
      "cell_type": "markdown",
      "source": [
        "## Importing all required libraries"
      ],
      "metadata": {
        "id": "6cNIFhLfmAnC"
      }
    },
    {
      "cell_type": "code",
      "source": [
        "import os\n",
        "import json\n",
        "import requests\n",
        "\n",
        "from azureml.core import Workspace\n",
        "from azureml.core.model import Model\n",
        "from azureml.core.environment import Environment\n",
        "from azureml.core.conda_dependencies import CondaDependencies\n",
        "from azureml.core.model import InferenceConfig\n",
        "from azureml.core.webservice import AciWebservice, Webservice"
      ],
      "metadata": {
        "id": "zacgD8dHlRtz"
      },
      "execution_count": 2,
      "outputs": []
    },
    {
      "cell_type": "markdown",
      "source": [
        "## Loading the configuration file and its informations"
      ],
      "metadata": {
        "id": "oaIqBewimlT1"
      }
    },
    {
      "cell_type": "code",
      "source": [
        "config_file_path = \"config.json\"\n",
        "\n",
        "with open(config_file_path, \"r\") as f:\n",
        "  data = json.load(f)\n",
        "\n",
        "subscription_id = data[\"subscription_id\"]\n",
        "resource_group = data[\"ressource_group\"]\n",
        "workspace_name = data[\"workspace_name\"]\n",
        "region = data[\"region\"]"
      ],
      "metadata": {
        "id": "k05TM5Namh-X"
      },
      "execution_count": 58,
      "outputs": []
    },
    {
      "cell_type": "code",
      "source": [
        "print(subscription_id)\n",
        "print(resource_group)\n",
        "print(workspace_name)\n",
        "print(region)"
      ],
      "metadata": {
        "colab": {
          "base_uri": "https://localhost:8080/"
        },
        "id": "tqjRrMxGoU-0",
        "outputId": "f846600b-8548-4925-fa57-dc3b46f243fd"
      },
      "execution_count": 59,
      "outputs": [
        {
          "output_type": "stream",
          "name": "stdout",
          "text": [
            "my_subscription_id\n",
            "ml-model-deployment\n",
            "diabetes-model-deployment1\n",
            "centralindia\n"
          ]
        }
      ]
    },
    {
      "cell_type": "markdown",
      "source": [
        "**Creating the resource group from Azure**"
      ],
      "metadata": {
        "id": "d2nguCfOodmC"
      }
    },
    {
      "cell_type": "markdown",
      "source": [
        "## Creating a workspace in Azure Machine Learning"
      ],
      "metadata": {
        "id": "epcOAStBor-S"
      }
    },
    {
      "cell_type": "code",
      "source": [
        "ws = Workspace.create(\n",
        "    name=workspace_name,\n",
        "    subscription_id=subscription_id,\n",
        "    resource_group = resource_group,\n",
        "    location=region\n",
        ")\n",
        "\n",
        "print(f\"Workspace {workspace_name} created!\")"
      ],
      "metadata": {
        "colab": {
          "base_uri": "https://localhost:8080/"
        },
        "id": "oae5WsoEocRk",
        "outputId": "880d9a6f-4b87-4b72-ff2d-f00e096f7adb"
      },
      "execution_count": 10,
      "outputs": [
        {
          "output_type": "stream",
          "name": "stdout",
          "text": [
            "Deploying AppInsights with name diabetesinsightsd2d992ed.\n",
            "Deployed AppInsights with name diabetesinsightsd2d992ed. Took 9.01 seconds.\n",
            "Deploying KeyVault with name diabeteskeyvault80223ebe.\n",
            "Deploying StorageAccount with name diabetesstorage10ec0b289.\n",
            "Deployed KeyVault with name diabeteskeyvault80223ebe. Took 25.46 seconds.\n",
            "Deployed StorageAccount with name diabetesstorage10ec0b289. Took 34.94 seconds.\n",
            "Deploying Workspace with name diabetes-model-deployment1.\n",
            "Deployed Workspace with name diabetes-model-deployment1. Took 38.88 seconds.\n",
            "Workspace diabetes-model-deployment1 created!\n"
          ]
        }
      ]
    },
    {
      "cell_type": "markdown",
      "source": [
        "## Registering the model in Azure Machine Learning"
      ],
      "metadata": {
        "id": "9LaLYuverbop"
      }
    },
    {
      "cell_type": "code",
      "source": [
        "model_path = \"diabetes_model.pkl\"\n",
        "model_name = \"diabetes_model\"\n",
        "\n",
        "registered_model = Model.register(workspace=ws,\n",
        "                                  model_path=model_path,\n",
        "                                  model_name=model_name)"
      ],
      "metadata": {
        "colab": {
          "base_uri": "https://localhost:8080/"
        },
        "id": "HG5QHcmQqHSE",
        "outputId": "d1f89591-1971-4ab5-b961-9d7b5f8222d9"
      },
      "execution_count": 11,
      "outputs": [
        {
          "output_type": "stream",
          "name": "stdout",
          "text": [
            "Registering model diabetes_model\n"
          ]
        }
      ]
    },
    {
      "cell_type": "markdown",
      "source": [
        "## Creating a conda environment for the registered model"
      ],
      "metadata": {
        "id": "p76VSd3psKrn"
      }
    },
    {
      "cell_type": "code",
      "source": [
        "conda_env = Environment(\"my-conda-env\")\n",
        "conda_env.python.conda_dependencies = CondaDependencies.create(conda_packages=['scikit-learn'])"
      ],
      "metadata": {
        "id": "IlnzRBaUsB2h"
      },
      "execution_count": 13,
      "outputs": []
    },
    {
      "cell_type": "markdown",
      "source": [
        "## Creating an InferenceConfig"
      ],
      "metadata": {
        "id": "ejNntw5NuH9D"
      }
    },
    {
      "cell_type": "code",
      "source": [
        "inference_config = InferenceConfig(entry_script=\"score.py\", environment=conda_env)"
      ],
      "metadata": {
        "id": "JNThV2QuuDM8"
      },
      "execution_count": 45,
      "outputs": []
    },
    {
      "cell_type": "markdown",
      "source": [
        "## Specifying the deployment configuration for Azure Container Inference"
      ],
      "metadata": {
        "id": "DmV-THPCyFgV"
      }
    },
    {
      "cell_type": "code",
      "source": [
        "aci_config = AciWebservice.deploy_configuration(cpu_cores=1, memory_gb=1)"
      ],
      "metadata": {
        "id": "PX7iEnY3yBxe"
      },
      "execution_count": 15,
      "outputs": []
    },
    {
      "cell_type": "markdown",
      "source": [
        "## Deploying the model in the Azure container registery"
      ],
      "metadata": {
        "id": "lhE9H3DGzCCl"
      }
    },
    {
      "cell_type": "code",
      "source": [
        "service = Model.deploy(\n",
        "    workspace=ws,\n",
        "    name=\"diabetes-prediction-service\",\n",
        "    models=[registered_model],\n",
        "    inference_config=inference_config,\n",
        "    deployment_config=aci_config\n",
        ")\n",
        "\n",
        "service.wait_for_deployment(show_output=True)"
      ],
      "metadata": {
        "colab": {
          "base_uri": "https://localhost:8080/"
        },
        "id": "TFPGfWb9zAOu",
        "outputId": "1436f644-20d8-47bd-9095-108104ed6915"
      },
      "execution_count": 46,
      "outputs": [
        {
          "output_type": "stream",
          "name": "stderr",
          "text": [
            "<ipython-input-46-451a9c37e160>:1: FutureWarning: azureml.core.model:\n",
            "To leverage new model deployment capabilities, AzureML recommends using CLI/SDK v2 to deploy models as online endpoint, \n",
            "please refer to respective documentations \n",
            "https://docs.microsoft.com/azure/machine-learning/how-to-deploy-managed-online-endpoints /\n",
            "https://docs.microsoft.com/azure/machine-learning/how-to-attach-kubernetes-anywhere \n",
            "For more information on migration, see https://aka.ms/acimoemigration \n",
            "To disable CLI/SDK v1 deprecation warning set AZUREML_LOG_DEPRECATION_WARNING_ENABLED to 'False'\n",
            "  service = Model.deploy(\n"
          ]
        },
        {
          "output_type": "stream",
          "name": "stdout",
          "text": [
            "Tips: You can try get_logs(): https://aka.ms/debugimage#dockerlog or local deployment: https://aka.ms/debugimage#debug-locally to debug if deployment takes longer than 10 minutes.\n",
            "Running\n",
            "2024-02-16 17:33:29+00:00 Registering the environment.\n",
            "2024-02-16 17:33:30+00:00 Use the existing image.\n",
            "2024-02-16 17:33:31+00:00 Submitting deployment to compute.\n",
            "2024-02-16 17:33:38+00:00 Checking the status of deployment diabetes-prediction-service..\n",
            "2024-02-16 17:35:03+00:00 Checking the status of inference endpoint diabetes-prediction-service.\n",
            "Succeeded\n",
            "ACI service creation operation finished, operation \"Succeeded\"\n"
          ]
        }
      ]
    },
    {
      "cell_type": "code",
      "source": [
        "scoring_uri = service.scoring_uri"
      ],
      "metadata": {
        "id": "L75UKcM31PKW"
      },
      "execution_count": 47,
      "outputs": []
    },
    {
      "cell_type": "code",
      "source": [
        "scoring_uri"
      ],
      "metadata": {
        "colab": {
          "base_uri": "https://localhost:8080/",
          "height": 35
        },
        "id": "8flZg7OL1WqB",
        "outputId": "e54c97aa-ebd1-47e8-c259-e507fbe76d55"
      },
      "execution_count": 48,
      "outputs": [
        {
          "output_type": "execute_result",
          "data": {
            "text/plain": [
              "'http://feb50b5c-e473-4d68-920f-24cbb9a6f6e8.centralindia.azurecontainer.io/score'"
            ],
            "application/vnd.google.colaboratory.intrinsic+json": {
              "type": "string"
            }
          },
          "metadata": {},
          "execution_count": 48
        }
      ]
    },
    {
      "cell_type": "markdown",
      "source": [
        "## Cleaning up all the created resources"
      ],
      "metadata": {
        "id": "Q1YsKVPY1NGq"
      }
    },
    {
      "cell_type": "code",
      "source": [
        "# Deleting the service\n",
        "service_name = \"diabetes-prediction-service\"\n",
        "\n",
        "service = ws.webservices[service_name]\n",
        "service.delete()"
      ],
      "metadata": {
        "id": "pUloD6L7z2a7"
      },
      "execution_count": 44,
      "outputs": []
    },
    {
      "cell_type": "code",
      "source": [
        "# Deleting the registred model\n",
        "\n",
        "model_name = \"diabetes_model\"\n",
        "registered_model = ws.models[model_name]\n",
        "registered_model.delete()"
      ],
      "metadata": {
        "id": "9rk0LE7L11Ee"
      },
      "execution_count": null,
      "outputs": []
    },
    {
      "cell_type": "code",
      "source": [
        "# deleting the workspace\n",
        "ws.delete(delete_dependent_resources=True)"
      ],
      "metadata": {
        "id": "vauamg3J2Tz-"
      },
      "execution_count": null,
      "outputs": []
    },
    {
      "cell_type": "markdown",
      "source": [
        "## Steps followed to deploy a ML model in Azure Cloud Platform\n",
        "\n",
        "- Creating an Azure account with an appropriate subscription\n",
        "- Creating a configuration file\n",
        "- Creating a resource group from Azure Portal\n",
        "- Creating a workspace\n",
        "- Registering the model in container registery\n",
        "- Deploying the model as an endpoint\n",
        "- Once done, deleting the created resources"
      ],
      "metadata": {
        "id": "SRMe3pba4BWL"
      }
    }
  ]
}