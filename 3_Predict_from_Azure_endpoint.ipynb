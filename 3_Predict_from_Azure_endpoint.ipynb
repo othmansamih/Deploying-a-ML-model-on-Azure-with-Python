{
  "nbformat": 4,
  "nbformat_minor": 0,
  "metadata": {
    "colab": {
      "provenance": []
    },
    "kernelspec": {
      "name": "python3",
      "display_name": "Python 3"
    },
    "language_info": {
      "name": "python"
    }
  },
  "cells": [
    {
      "cell_type": "code",
      "execution_count": null,
      "metadata": {
        "id": "Jgh9s4vZF6nP",
        "outputId": "3128573b-7a2f-4612-aa7e-b611bcf0260f",
        "colab": {
          "base_uri": "https://localhost:8080/"
        }
      },
      "outputs": [
        {
          "output_type": "stream",
          "name": "stdout",
          "text": [
            "{'result': [1]}\n",
            "The prediction is: 1\n"
          ]
        }
      ],
      "source": [
        "import requests\n",
        "import json\n",
        "\n",
        "input_data = [5,166,72,19,175,25.8,0.587,51]\n",
        "input_data_json = json.dumps({'data': input_data})\n",
        "\n",
        "endpoint = \"http://feb50b5c-e473-4d68-920f-24cbb9a6f6e8.centralindia.azurecontainer.io/score\"\n",
        "\n",
        "headers = {\"Content-Type\": \"application/json\"}\n",
        "\n",
        "response = requests.post(url=endpoint, data=input_data_json, headers=headers)\n",
        "\n",
        "if response.status_code == 200:\n",
        "  result = json.loads(response.json())\n",
        "  print(result)\n",
        "  prediction = result[\"result\"][0]\n",
        "  print(f\"The prediction is: {prediction}\")\n",
        "else:\n",
        "  print(f\"Error: {response.text}\")"
      ]
    }
  ]
}